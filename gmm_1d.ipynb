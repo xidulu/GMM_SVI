{
 "cells": [
  {
   "cell_type": "code",
   "execution_count": 1,
   "metadata": {},
   "outputs": [],
   "source": [
    "import torch\n",
    "import numpy as np\n",
    "import scipy.stats\n",
    "from torch.distributions import constraints, MultivariateNormal\n",
    "from matplotlib import pyplot as plt\n",
    "from tqdm.notebook import tqdm\n",
    "import seaborn as sns\n",
    "%matplotlib inline\n",
    "\n",
    "import pyro\n",
    "import pyro.distributions as dist\n",
    "from pyro.optim import Adam\n",
    "from pyro.infer import SVI, Trace_ELBO, TraceEnum_ELBO\n",
    "from pyro.util import get_rng_state"
   ]
  },
  {
   "cell_type": "code",
   "execution_count": 2,
   "metadata": {},
   "outputs": [],
   "source": [
    "p = 0.6\n",
    "n_sample = 1000\n",
    "mask = dist.Bernoulli(probs=p).sample((n_sample,))\n",
    "loc1, loc2 = -4.0, 3.0\n",
    "scale = 0.5\n",
    "data = dist.MaskedMixture(mask.bool(),\n",
    "                         dist.Normal(loc1, scale),\n",
    "                         dist.Normal(loc2, scale)).sample()"
   ]
  },
  {
   "cell_type": "code",
   "execution_count": 3,
   "metadata": {},
   "outputs": [
    {
     "data": {
      "text/plain": [
       "<matplotlib.axes._subplots.AxesSubplot at 0x7fbe2032e1c0>"
      ]
     },
     "execution_count": 3,
     "metadata": {},
     "output_type": "execute_result"
    },
    {
     "data": {
      "image/png": "[encoded data removed]",
      "text/plain": [
       "<Figure size 432x288 with 1 Axes>"
      ]
     },
     "metadata": {
      "needs_background": "light"
     },
     "output_type": "display_data"
    }
   ],
   "source": [
    "sns.kdeplot(data.numpy())"
   ]
  },
  {
   "cell_type": "code",
   "execution_count": 4,
   "metadata": {},
   "outputs": [],
   "source": [
    "def model(data):\n",
    "    weights = pyro.param('weights', torch.tensor(0.5))\n",
    "    locs = pyro.param('locs', torch.randn(2,))\n",
    "    with pyro.plate('data', len(data)):\n",
    "        assignment = pyro.sample('assignment', dist.Bernoulli(weights)).long()\n",
    "        pyro.sample('obs', dist.Normal(locs[assignment], 1.0))\n",
    "\n",
    "T = 0.1\n",
    "def guide(data):\n",
    "    with pyro.plate('data', len(data)):\n",
    "        alpha = pyro.param('alpha', torch.ones(len(data)) * 0.5, constraints.unit_interval)\n",
    "        pyro.sample('assignment', dist.RelaxedBernoulliStraightThrough(torch.tensor(T), probs=alpha))\n",
    "        \n",
    "def train(data, svi, num_iterations):\n",
    "    losses = []\n",
    "    pyro.clear_param_store()\n",
    "    for j in tqdm(range(num_iterations)):\n",
    "        loss = svi.step(data)\n",
    "        losses.append(loss)\n",
    "    return losses"
   ]
  },
  {
   "cell_type": "code",
   "execution_count": 5,
   "metadata": {},
   "outputs": [],
   "source": [
    "def initialize(seed, data, model, guide, optim):\n",
    "    pyro.set_rng_seed(seed)\n",
    "    pyro.clear_param_store()\n",
    "    svi = SVI(model, guide, optim, Trace_ELBO(num_particles=50))\n",
    "    return svi.loss(model, guide, data)"
   ]
  },
  {
   "cell_type": "code",
   "execution_count": 10,
   "metadata": {},
   "outputs": [
    {
     "data": {
      "application/vnd.jupyter.widget-view+json": {
       "model_id": "dc8c2cb09d544866af239a3f38ac6c73",
       "version_major": 2,
       "version_minor": 0
      },
      "text/plain": [
       "HBox(children=(FloatProgress(value=0.0), HTML(value='')))"
      ]
     },
     "metadata": {},
     "output_type": "display_data"
    },
    {
     "name": "stdout",
     "output_type": "stream",
     "text": [
      "\n"
     ]
    }
   ],
   "source": [
    "n_iter = 100\n",
    "pyro.clear_param_store()\n",
    "optim = Adam({'lr': 0.01, 'betas': [0.9, 0.99]})\n",
    "loss, seed = min(\n",
    "    [(initialize(seed, data, model, guide, optim),seed) for seed in range(100)]\n",
    ")\n",
    "pyro.set_rng_seed(seed)\n",
    "svi = SVI(model, guide, optim, loss=Trace_ELBO(num_particles=50))\n",
    "losses = train(data, svi, n_iter)"
   ]
  },
  {
   "cell_type": "code",
   "execution_count": 11,
   "metadata": {},
   "outputs": [
    {
     "data": {
      "text/plain": [
       "[8301.221166992187,\n",
       " 8359.401190185548,\n",
       " 8351.782446289064,\n",
       " 8313.060854492185,\n",
       " 8353.570922851562,\n",
       " 8351.52700317383,\n",
       " 8384.403093261719,\n",
       " 8333.670771484374,\n",
       " 8321.627341308593,\n",
       " 8349.871146240232,\n",
       " 8347.643099365236,\n",
       " 8329.943636474609,\n",
       " 8341.798170166016,\n",
       " 8335.40532348633,\n",
       " 8417.882100830078,\n",
       " 8366.023520507813,\n",
       " 8397.120811767574,\n",
       " 8365.07088623047,\n",
       " 8360.192524414064,\n",
       " 8354.46916748047,\n",
       " 8389.71432373047,\n",
       " 8355.344200439453,\n",
       " 8361.771667480469,\n",
       " 8383.462709960937,\n",
       " 8393.029584960936,\n",
       " 8348.78214477539,\n",
       " 8323.784959716799,\n",
       " 8347.696606445312,\n",
       " 8384.485104980467,\n",
       " 8389.949974365232,\n",
       " 8341.34476196289,\n",
       " 8327.366844482422,\n",
       " 8395.607799072266,\n",
       " 8383.569150390626,\n",
       " 8364.345273437502,\n",
       " 8374.757668457036,\n",
       " 8352.202225341798,\n",
       " 8358.441787109376,\n",
       " 8391.80740722656,\n",
       " 8362.24583251953,\n",
       " 8365.5338684082,\n",
       " 8406.083044433593,\n",
       " 8362.965572509764,\n",
       " 8341.593034667967,\n",
       " 8372.929951171875,\n",
       " 8409.190638427735,\n",
       " 8410.711712646485,\n",
       " 8356.96126220703,\n",
       " 8361.428944091796,\n",
       " 8448.825388183594,\n",
       " 8367.963818359374,\n",
       " 8355.247292480468,\n",
       " 8365.465686035155,\n",
       " 8386.338482666015,\n",
       " 8324.402836914063,\n",
       " 8347.376977539061,\n",
       " 8346.25567993164,\n",
       " 8377.720341796874,\n",
       " 8374.126029052735,\n",
       " 8319.91125366211,\n",
       " 8377.051690673828,\n",
       " 8330.926029052735,\n",
       " 8354.243182373046,\n",
       " 8371.009516601562,\n",
       " 8359.6256262207,\n",
       " 8378.431424560544,\n",
       " 8400.056813964844,\n",
       " 8352.590620117187,\n",
       " 8341.213303222656,\n",
       " 8374.490462646483,\n",
       " 8382.527868652347,\n",
       " 8308.825163574222,\n",
       " 8336.606007080078,\n",
       " 8368.17432739258,\n",
       " 8351.53750854492,\n",
       " 8367.58674682617,\n",
       " 8381.504691162108,\n",
       " 8363.924825439453,\n",
       " 8397.922108154296,\n",
       " 8361.907231445311,\n",
       " 8386.93087158203,\n",
       " 8348.195445556643,\n",
       " 8359.427478027344,\n",
       " 8378.270354003904,\n",
       " 8384.257734375002,\n",
       " 8367.910490722656,\n",
       " 8388.149157714843,\n",
       " 8445.49283935547,\n",
       " 8300.943088378908,\n",
       " 8321.444975585939,\n",
       " 8334.873779296875,\n",
       " 8361.906550292972,\n",
       " 8400.99815185547,\n",
       " 8344.465888671877,\n",
       " 8383.656915283202,\n",
       " 8370.015637207032,\n",
       " 8384.583010253906,\n",
       " 8362.889793701172,\n",
       " 8376.561490478516,\n",
       " 8342.018305664065]"
      ]
     },
     "execution_count": 11,
     "metadata": {},
     "output_type": "execute_result"
    }
   ],
   "source": [
    "losses"
   ]
  }
 ],
 "metadata": {
  "kernelspec": {
   "display_name": "Python 3",
   "language": "python",
   "name": "python3"
  },
  "language_info": {
   "codemirror_mode": {
    "name": "ipython",
    "version": 3
   },
   "file_extension": ".py",
   "mimetype": "text/x-python",
   "name": "python",
   "nbconvert_exporter": "python",
   "pygments_lexer": "ipython3",
   "version": "3.8.3"
  }
 },
 "nbformat": 4,
 "nbformat_minor": 4
}
