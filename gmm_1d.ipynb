{
 "cells": [
  {
   "cell_type": "code",
   "execution_count": 1,
   "metadata": {},
   "outputs": [],
   "source": [
    "import os\n",
    "from collections import defaultdict\n",
    "import torch\n",
    "import numpy as np\n",
    "import scipy.stats\n",
    "from torch.distributions import constraints, MultivariateNormal\n",
    "from matplotlib import pyplot as plt\n",
    "from tqdm.notebook import tqdm\n",
    "import seaborn as sns\n",
    "%matplotlib inline\n",
    "\n",
    "import pyro\n",
    "import pyro.distributions as dist\n",
    "from pyro import poutine\n",
    "from pyro.infer.autoguide import AutoDelta\n",
    "from pyro.optim import Adam\n",
    "from pyro.infer import SVI, Trace_ELBO, TraceEnum_ELBO\n",
    "from pyro.util import get_rng_state"
   ]
  },
  {
   "cell_type": "code",
   "execution_count": 17,
   "metadata": {},
   "outputs": [],
   "source": [
    "p = 0.6\n",
    "n_sample = 1000\n",
    "mask = dist.Bernoulli(probs=p).sample((n_sample,))\n",
    "loc1, loc2 = -4.0, 3.0\n",
    "scale = 0.5\n",
    "data = dist.MaskedMixture(mask.bool(),\n",
    "                         dist.Normal(loc1, scale),\n",
    "                         dist.Normal(loc2, scale)).sample()"
   ]
  },
  {
   "cell_type": "code",
   "execution_count": 18,
   "metadata": {},
   "outputs": [
    {
     "data": {
      "text/plain": [
       "<matplotlib.axes._subplots.AxesSubplot at 0x7f7c724e9a00>"
      ]
     },
     "execution_count": 18,
     "metadata": {},
     "output_type": "execute_result"
    },
    {
     "data": {
      "image/png": "[encoded data removed]",
      "text/plain": [
       "<Figure size 432x288 with 1 Axes>"
      ]
     },
     "metadata": {
      "needs_background": "light"
     },
     "output_type": "display_data"
    }
   ],
   "source": [
    "sns.kdeplot(data.numpy())"
   ]
  },
  {
   "cell_type": "code",
   "execution_count": 84,
   "metadata": {},
   "outputs": [],
   "source": [
    "def model(data):\n",
    "    weights = pyro.param('weights', torch.tensor(0.5))\n",
    "    locs = pyro.param('locs', torch.randn(2,))\n",
    "    with pyro.plate('data', len(data)):\n",
    "        assignment = pyro.sample('assignment', dist.Bernoulli(weights)).long()\n",
    "        pyro.sample('obs', dist.Normal(locs[assignment], 1.0))\n",
    "\n",
    "T = 0.1\n",
    "def guide(data):\n",
    "    with pyro.plate('data', len(data)):\n",
    "        alpha = pyro.param('alpha', torch.ones(len(data)) * 0.5, constraints.unit_interval)\n",
    "        pyro.sample('assignment', dist.RelaxedBernoulliStraightThrough(torch.tensor(T), probs=alpha))\n",
    "        \n",
    "def train(data, svi, num_iterations):\n",
    "    losses = []\n",
    "    pyro.clear_param_store()\n",
    "    for j in tqdm(range(num_iterations)):\n",
    "        loss = svi.step(data)\n",
    "        losses.append(loss)\n",
    "    return losses"
   ]
  },
  {
   "cell_type": "code",
   "execution_count": 85,
   "metadata": {},
   "outputs": [],
   "source": [
    "def initialize(seed, data, model, guide, optim):\n",
    "    pyro.set_rng_seed(seed)\n",
    "    pyro.clear_param_store()\n",
    "    svi = SVI(model, guide, optim, Trace_ELBO(num_particles=50))\n",
    "    return svi.loss(model, guide, data)"
   ]
  },
  {
   "cell_type": "code",
   "execution_count": 86,
   "metadata": {},
   "outputs": [
    {
     "name": "stdout",
     "output_type": "stream",
     "text": [
      "8301.221176757812 1\n"
     ]
    }
   ],
   "source": [
    "loss, seed = min(\n",
    "    [(initialize(seed, data, model, guide, optim),seed) for seed in range(100)]\n",
    ")\n",
    "print(loss, seed)"
   ]
  },
  {
   "cell_type": "code",
   "execution_count": 75,
   "metadata": {},
   "outputs": [
    {
     "data": {
      "application/vnd.jupyter.widget-view+json": {
       "model_id": "3c5f802b2ffb42f4ac2757aa63cfe848",
       "version_major": 2,
       "version_minor": 0
      },
      "text/plain": [
       "HBox(children=(FloatProgress(value=0.0), HTML(value='')))"
      ]
     },
     "metadata": {},
     "output_type": "display_data"
    },
    {
     "name": "stdout",
     "output_type": "stream",
     "text": [
      "\n"
     ]
    }
   ],
   "source": [
    "n_iter = 100\n",
    "pyro.clear_param_store()\n",
    "pyro.set_rng_seed(seed)\n",
    "optim = Adam({'lr': 0.2, 'betas': [0.9, 0.99]})\n",
    "svi = SVI(model, guide, optim, loss=Trace_ELBO(num_particles=50))\n",
    "losses = train(data, svi, n_iter)"
   ]
  },
  {
   "cell_type": "code",
   "execution_count": 76,
   "metadata": {},
   "outputs": [
    {
     "data": {
      "text/plain": [
       "[8301.221166992187,\n",
       " 8491.056929931643,\n",
       " 8420.514141845702,\n",
       " 8438.507695312497,\n",
       " 8509.756331787108,\n",
       " 8490.523221435546,\n",
       " 8495.229700927735,\n",
       " 8408.520804443358,\n",
       " 8407.630356445312,\n",
       " 8434.38468017578,\n",
       " 8429.483593749997,\n",
       " 8408.400427246095,\n",
       " 8394.73835205078,\n",
       " 8397.981290283205,\n",
       " 8460.669860839844,\n",
       " 8432.17291015625,\n",
       " 8470.386202392578,\n",
       " 8446.488541259765,\n",
       " 8422.003920898438,\n",
       " 8425.477233886717,\n",
       " 8457.58980957031,\n",
       " 8418.154117431643,\n",
       " 8423.279194335937,\n",
       " 8430.300615234375,\n",
       " 8436.026270751954,\n",
       " 8411.145355224608,\n",
       " 8389.055625,\n",
       " 8392.21465942383,\n",
       " 8437.152952880859,\n",
       " 8447.271264648442,\n",
       " 8399.399343261719,\n",
       " 8365.215833740232,\n",
       " 8442.823289794922,\n",
       " 8419.937193603515,\n",
       " 8415.03077392578,\n",
       " 8421.444844970707,\n",
       " 8402.832186279298,\n",
       " 8411.77419189453,\n",
       " 8453.358541259764,\n",
       " 8411.562967529298,\n",
       " 8410.67894165039,\n",
       " 8454.214891357422,\n",
       " 8413.57502319336,\n",
       " 8399.379141845702,\n",
       " 8414.079338378908,\n",
       " 8449.900728759765,\n",
       " 8458.123488769528,\n",
       " 8398.844268798828,\n",
       " 8407.933559570314,\n",
       " 8491.42045288086,\n",
       " 8421.849932861329,\n",
       " 8394.84904541016,\n",
       " 8428.317593994141,\n",
       " 8426.08892944336,\n",
       " 8379.848353271484,\n",
       " 8390.373448486327,\n",
       " 8398.923912353515,\n",
       " 8414.158322753907,\n",
       " 8414.136782226562,\n",
       " 8375.193862304688,\n",
       " 8420.327081298828,\n",
       " 8370.046979980469,\n",
       " 8387.914924316407,\n",
       " 8414.211505126952,\n",
       " 8402.07528686523,\n",
       " 8432.121901855468,\n",
       " 8445.721772460938,\n",
       " 8395.373767089846,\n",
       " 8389.667097167969,\n",
       " 8415.918061523436,\n",
       " 8425.284447021484,\n",
       " 8363.116376953129,\n",
       " 8394.671774902343,\n",
       " 8417.446110839841,\n",
       " 8395.659174804687,\n",
       " 8402.785723876956,\n",
       " 8428.290920410156,\n",
       " 8421.57081176758,\n",
       " 8433.141805419922,\n",
       " 8420.13586791992,\n",
       " 8436.612908935547,\n",
       " 8400.839444580079,\n",
       " 8410.853294677732,\n",
       " 8422.379422607424,\n",
       " 8451.230263671876,\n",
       " 8411.823952636718,\n",
       " 8429.203338623047,\n",
       " 8481.945406494142,\n",
       " 8355.539257812501,\n",
       " 8368.744655761717,\n",
       " 8379.791909179687,\n",
       " 8405.049937744141,\n",
       " 8454.413598632811,\n",
       " 8393.449301757813,\n",
       " 8449.754962158204,\n",
       " 8425.580501708986,\n",
       " 8423.129755859374,\n",
       " 8409.188555908202,\n",
       " 8412.270189208984,\n",
       " 8394.372200927732]"
      ]
     },
     "execution_count": 76,
     "metadata": {},
     "output_type": "execute_result"
    }
   ],
   "source": [
    "losses"
   ]
  }
 ],
 "metadata": {
  "kernelspec": {
   "display_name": "Python 3",
   "language": "python",
   "name": "python3"
  },
  "language_info": {
   "codemirror_mode": {
    "name": "ipython",
    "version": 3
   },
   "file_extension": ".py",
   "mimetype": "text/x-python",
   "name": "python",
   "nbconvert_exporter": "python",
   "pygments_lexer": "ipython3",
   "version": "3.8.3"
  }
 },
 "nbformat": 4,
 "nbformat_minor": 4
}
