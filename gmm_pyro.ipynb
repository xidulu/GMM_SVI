{
 "cells": [
  {
   "cell_type": "code",
   "execution_count": 330,
   "metadata": {},
   "outputs": [],
   "source": [
    "import os\n",
    "from collections import defaultdict\n",
    "import torch\n",
    "import numpy as np\n",
    "import scipy.stats\n",
    "from torch.distributions import constraints, MultivariateNormal\n",
    "from matplotlib import pyplot as plt\n",
    "from tqdm.notebook import tqdm\n",
    "import seaborn as sns\n",
    "%matplotlib inline\n",
    "\n",
    "import pyro\n",
    "import pyro.distributions as dist\n",
    "from pyro import poutine\n",
    "from pyro.infer.autoguide import AutoDelta\n",
    "from pyro.optim import Adam\n",
    "from pyro.infer import SVI, Trace_ELBO, TraceEnum_ELBO\n",
    "from pyro.util import get_rng_state"
   ]
  },
  {
   "cell_type": "code",
   "execution_count": 331,
   "metadata": {},
   "outputs": [
    {
     "data": {
      "image/png": "[encoded data removed]",
      "text/plain": [
       "<Figure size 432x288 with 1 Axes>"
      ]
     },
     "metadata": {
      "needs_background": "light"
     },
     "output_type": "display_data"
    }
   ],
   "source": [
    "data = torch.cat((MultivariateNormal(-5. * torch.ones(2), torch.eye(2)).sample([100]),\n",
    "                  MultivariateNormal(5 * torch.ones(2), torch.eye(2)).sample([100])))\n",
    "plt.scatter(data[:, 0].cpu(), data[:, 1].cpu())\n",
    "# sns.kdeplot(data.squeeze().numpy())\n",
    "plt.title(\"Data Samples from Mixture of 2 Gaussians\")\n",
    "plt.show()\n",
    "N = data.shape[0]\n",
    "idx = np.arange(N)\n",
    "# np.random.shuffle(idx)\n",
    "data = data.squeeze()[idx]\n",
    "y = [0] * 100 + [1] * 100 "
   ]
  },
  {
   "cell_type": "code",
   "execution_count": 341,
   "metadata": {},
   "outputs": [],
   "source": [
    "def model(data, num_components=2):\n",
    "    # Global variables\n",
    "    loc = pyro.param('tau', lambda: torch.Tensor([[-5,-5],[5,5]]))\n",
    "#     with pyro.plate(\"components\", num_components):\n",
    "#         loc = pyro.sample(\"loc\", dist.MultivariateNormal(tau,\n",
    "#                                                          torch.eye(2)))\n",
    "    # Local variables\n",
    "    with pyro.plate(\"data\", data.shape[0]):\n",
    "        x = pyro.sample(\"x\", dist.RelaxedBernoulliStraightThrough(torch.tensor(0.1),\n",
    "                                                                  probs=torch.tensor(0.5))).long()\n",
    "#         x = pyro.sample('x', dist.Bernoulli(torch.tensor(0.5))).long()\n",
    "        pyro.sample(\"obs\", dist.MultivariateNormal(loc[x], torch.eye(2)), obs=data)"
   ]
  },
  {
   "cell_type": "code",
   "execution_count": 342,
   "metadata": {},
   "outputs": [],
   "source": [
    "def guide(data, num_components=2):\n",
    "    N = len(data)\n",
    "    a = pyro.param('a', lambda: torch.rand(N), constraints.unit_interval)\n",
    "#     with pyro.plate('components', num_components):\n",
    "#         loc = pyro.sample('loc', dist.MultivariateNormal(tau ,torch.eye(2)))\n",
    "    with pyro.plate(\"data\", data.shape[0]):\n",
    "        x = pyro.sample(\"x\", dist.RelaxedBernoulliStraightThrough(torch.tensor(0.1), probs=a))\n",
    "#         x = pyro.sample('x', dist.Bernoulli(probs=a))"
   ]
  },
  {
   "cell_type": "code",
   "execution_count": 356,
   "metadata": {},
   "outputs": [],
   "source": [
    "def train(data, svi, num_iterations):\n",
    "    losses = []\n",
    "    a_l = []\n",
    "    tau_l = []\n",
    "    pyro.clear_param_store()\n",
    "    for j in tqdm(range(num_iterations)):\n",
    "        loss = svi.step(data)\n",
    "#         print(pyro.param('tau'))\n",
    "        losses.append(loss)\n",
    "        a_l.append(pyro.param('a').detach())\n",
    "        tau = pyro.param('tau').detach()\n",
    "        tau_l.append(tau.numpy())\n",
    "    return losses"
   ]
  },
  {
   "cell_type": "code",
   "execution_count": 360,
   "metadata": {},
   "outputs": [
    {
     "data": {
      "application/vnd.jupyter.widget-view+json": {
       "model_id": "7c6927e9f599487f91444f23a28b06e8",
       "version_major": 2,
       "version_minor": 0
      },
      "text/plain": [
       "HBox(children=(FloatProgress(value=0.0, max=500.0), HTML(value='')))"
      ]
     },
     "metadata": {},
     "output_type": "display_data"
    },
    {
     "name": "stdout",
     "output_type": "stream",
     "text": [
      "\n"
     ]
    }
   ],
   "source": [
    "n_iter = 500\n",
    "optim = Adam({\"lr\": 0.1})\n",
    "pyro.clear_param_store()\n",
    "svi = SVI(model, guide, optim, loss=Trace_ELBO(num_particles=100))\n",
    "losses = train(data, svi, n_iter)"
   ]
  },
  {
   "cell_type": "code",
   "execution_count": 358,
   "metadata": {},
   "outputs": [
    {
     "data": {
      "text/plain": [
       "tensor([[-0.4003, -0.4433],\n",
       "        [ 0.2923,  0.3680]], requires_grad=True)"
      ]
     },
     "execution_count": 358,
     "metadata": {},
     "output_type": "execute_result"
    }
   ],
   "source": [
    "pyro.param('tau')"
   ]
  },
  {
   "cell_type": "code",
   "execution_count": 359,
   "metadata": {},
   "outputs": [
    {
     "data": {
      "text/plain": [
       "tensor([4.8627e-01, 4.8181e-01, 2.5346e-07, 1.0000e+00, 4.8329e-01, 4.8326e-01,\n",
       "        6.5620e-07, 1.1781e-06, 4.3114e-01, 7.1163e-07, 4.8665e-01, 1.6122e-06,\n",
       "        5.3596e-01, 5.0284e-01, 4.7916e-01, 5.2862e-01, 5.1732e-01, 5.4414e-01,\n",
       "        4.8814e-01, 1.1188e-06, 5.4293e-01, 1.0000e+00, 4.7243e-01, 4.7341e-01,\n",
       "        4.4770e-01, 1.6941e-06, 4.9468e-01, 1.0789e-06, 1.0359e-06, 1.0000e+00,\n",
       "        5.3166e-01, 4.8542e-01, 4.5547e-01, 5.7077e-01, 1.0000e+00, 1.0000e+00,\n",
       "        4.5762e-01, 5.0354e-01, 1.4408e-06, 1.0140e-06, 5.2990e-01, 5.3294e-01,\n",
       "        5.1665e-01, 9.3314e-07, 5.4933e-01, 4.9459e-01, 5.2010e-01, 4.5395e-01,\n",
       "        4.9793e-01, 1.0000e+00, 5.3107e-01, 4.3275e-01, 6.0696e-07, 5.5190e-01,\n",
       "        5.3628e-01, 4.9400e-01, 5.0859e-01, 1.3416e-06, 5.0777e-01, 5.0391e-01,\n",
       "        4.8192e-01, 4.6704e-01, 1.0000e+00, 4.3365e-01, 5.0807e-01, 1.0000e+00,\n",
       "        4.9176e-01, 4.8211e-01, 4.1632e-01, 5.0913e-01, 5.1731e-01, 4.8716e-01,\n",
       "        4.9979e-01, 1.0424e-06, 5.0329e-01, 4.7864e-01, 5.2587e-01, 2.1508e-07,\n",
       "        5.0546e-01, 4.9476e-01, 4.6290e-01, 4.3156e-01, 4.2530e-07, 4.7838e-01,\n",
       "        4.9338e-01, 4.7630e-01, 4.6779e-01, 5.0455e-01, 4.8841e-01, 5.7051e-01,\n",
       "        4.9925e-01, 5.0864e-01, 1.0000e+00, 1.1857e-06, 4.9707e-01, 1.1731e-06,\n",
       "        5.0615e-01, 5.1132e-01, 5.0235e-01, 1.0000e+00, 1.3661e-06, 4.4087e-01,\n",
       "        1.0000e+00, 5.0940e-01, 1.0000e+00, 6.0063e-01, 4.6381e-01, 5.0699e-01,\n",
       "        1.0000e+00, 5.2104e-01, 1.0000e+00, 4.4053e-01, 5.1140e-01, 1.0000e+00,\n",
       "        8.3928e-07, 2.3817e-07, 4.9517e-01, 1.0000e+00, 5.1313e-01, 4.9771e-01,\n",
       "        4.9863e-01, 1.0000e+00, 5.0086e-01, 5.1258e-01, 5.0842e-01, 1.0000e+00,\n",
       "        1.0000e+00, 4.8487e-01, 4.6787e-01, 4.8029e-01, 1.4697e-06, 1.0000e+00,\n",
       "        1.3259e-06, 1.2127e-06, 5.0737e-01, 5.2089e-01, 4.5673e-01, 5.0974e-01,\n",
       "        5.2541e-01, 1.0000e+00, 5.4648e-01, 4.9322e-01, 5.0812e-01, 1.0000e+00,\n",
       "        4.9787e-01, 1.4181e-06, 1.5256e-06, 5.0948e-01, 1.0000e+00, 4.7746e-01,\n",
       "        5.3541e-01, 5.4669e-07, 4.8333e-01, 4.9948e-01, 5.2405e-01, 5.2385e-01,\n",
       "        1.4649e-06, 5.1291e-01, 1.1733e-06, 1.0000e+00, 5.0471e-01, 4.9103e-01,\n",
       "        4.9097e-01, 1.0000e+00, 5.4324e-01, 5.4715e-01, 5.1026e-01, 4.9315e-01,\n",
       "        1.2980e-06, 1.0000e+00, 1.0000e+00, 4.1681e-01, 4.8898e-01, 1.2118e-06,\n",
       "        5.2955e-01, 5.3755e-01, 5.0593e-01, 1.0000e+00, 1.0000e+00, 5.1054e-01,\n",
       "        4.4969e-01, 5.6356e-01, 4.9417e-01, 1.0000e+00, 5.0962e-01, 5.0226e-01,\n",
       "        4.5048e-01, 1.4575e-06, 5.1633e-01, 4.3195e-01, 4.2974e-01, 1.5149e-06,\n",
       "        4.5037e-01, 2.6856e-07, 4.6586e-01, 4.8676e-01, 5.1804e-01, 5.0409e-01,\n",
       "        1.0000e+00, 4.8225e-01], grad_fn=<ClampBackward>)"
      ]
     },
     "execution_count": 359,
     "metadata": {},
     "output_type": "execute_result"
    }
   ],
   "source": [
    "pyro.param('a')"
   ]
  }
 ],
 "metadata": {
  "kernelspec": {
   "display_name": "Python 3",
   "language": "python",
   "name": "python3"
  },
  "language_info": {
   "codemirror_mode": {
    "name": "ipython",
    "version": 3
   },
   "file_extension": ".py",
   "mimetype": "text/x-python",
   "name": "python",
   "nbconvert_exporter": "python",
   "pygments_lexer": "ipython3",
   "version": "3.8.3"
  }
 },
 "nbformat": 4,
 "nbformat_minor": 4
}
